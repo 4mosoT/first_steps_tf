{
 "cells": [
  {
   "cell_type": "code",
   "execution_count": 1,
   "metadata": {},
   "outputs": [],
   "source": [
    "import numpy as np\n",
    "import tensorflow as tf"
   ]
  },
  {
   "cell_type": "code",
   "execution_count": 2,
   "metadata": {},
   "outputs": [],
   "source": [
    "def RNNCell(X, prev, parameters):\n",
    "    \n",
    "    Wax = parameters[\"Wax\"]\n",
    "    Waa = parameters[\"Waa\"]\n",
    "    Wya = parameters[\"Wya\"]\n",
    "    ba = parameters[\"ba\"]\n",
    "    by = parameters[\"by\"]\n",
    "    \n",
    "    a_next = tf.tanh(tf.matmul(Waa, a_prev) + tf.matmul(Wax, X) + ba)\n",
    "    \n",
    "    yt_pred = tf.softmax(tf.matmul(Wya, a_next) + by)\n",
    "    \n",
    "    return a_next, yt_pred    "
   ]
  },
  {
   "cell_type": "code",
   "execution_count": 3,
   "metadata": {},
   "outputs": [],
   "source": [
    "parameters = {\n",
    "    'Waa' : tf.get_variable('Waa', shape = [5,5], dtype = tf.float32),\n",
    "    'Wax' : tf.get_variable('Wax', shape = [5,3], dtype = tf.float32),\n",
    "    'Wya' : tf.get_variable('Wya', shape = [2,5], dtype = tf.float32),\n",
    "    'ba' : tf.get_variable('ba', shape = [5,1], dtype = tf.float32),\n",
    "    'by' : tf.get_variable('by', shape = [2,1], dtype = tf.float32)\n",
    "}"
   ]
  },
  {
   "cell_type": "code",
   "execution_count": 4,
   "metadata": {},
   "outputs": [],
   "source": [
    "init = tf.global_variables_initializer()"
   ]
  },
  {
   "cell_type": "code",
   "execution_count": 33,
   "metadata": {},
   "outputs": [
    {
     "name": "stdout",
     "output_type": "stream",
     "text": [
      "[[-0.40301982  0.6819979   0.06510961 -0.5896457  -0.25082833]\n",
      " [-0.04550046  0.25146163 -0.54693234 -0.58607143  0.31844592]\n",
      " [ 0.45459235 -0.05293065 -0.0686183  -0.14816034 -0.05389559]\n",
      " [-0.6360853  -0.7089565  -0.6022134   0.39960074 -0.7456988 ]\n",
      " [-0.7450833  -0.14563322  0.13371903 -0.63190174 -0.47995013]]\n",
      "[[-0.77579284  0.5672038  -0.62237686]\n",
      " [ 0.03602374 -0.39056194 -0.42316315]\n",
      " [-0.4479391   0.7189478   0.53354937]\n",
      " [-0.14175647 -0.01678884  0.4910124 ]\n",
      " [-0.6950917  -0.81192523 -0.6215318 ]]\n",
      "[[ 0.24114323  0.08910489  0.54834735  0.6775062  -0.1953147 ]\n",
      " [ 0.28729403 -0.61403096  0.40718567  0.06877124  0.01660305]]\n",
      "[[-0.06922293]\n",
      " [-0.09777236]\n",
      " [ 0.42173862]\n",
      " [-0.09464121]\n",
      " [ 0.65361667]]\n",
      "[[ 0.43749774]\n",
      " [-0.31243658]]\n"
     ]
    }
   ],
   "source": [
    "with tf.Session() as sess:\n",
    "    init.run()\n"
   ]
  },
  {
   "cell_type": "code",
   "execution_count": null,
   "metadata": {},
   "outputs": [],
   "source": []
  }
 ],
 "metadata": {
  "kernelspec": {
   "display_name": "Python 3",
   "language": "python",
   "name": "python3"
  },
  "language_info": {
   "codemirror_mode": {
    "name": "ipython",
    "version": 3
   },
   "file_extension": ".py",
   "mimetype": "text/x-python",
   "name": "python",
   "nbconvert_exporter": "python",
   "pygments_lexer": "ipython3",
   "version": "3.6.5"
  }
 },
 "nbformat": 4,
 "nbformat_minor": 2
}
